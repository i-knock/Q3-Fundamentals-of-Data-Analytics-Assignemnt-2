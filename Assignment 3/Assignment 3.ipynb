{
 "cells": [
  {
   "cell_type": "markdown",
   "metadata": {},
   "source": [
    "# Assignment 3 Info\n"
   ]
  },
  {
   "cell_type": "markdown",
   "metadata": {},
   "source": [
    "## Class Notes\n",
    "- Use BeautifulSoup (4) for html scraping\n",
    "  - https://realpython.com/python-web-scraping-practical-introduction/\n",
    "  - https://realpython.com/beautiful-soup-web-scraper-python/#step-1-inspect-your-data-source\n",
    "  - `.prettify()` can be useful to look at the source code\n",
    "- To join absolute and reltative pages: use module `urlparse`\n",
    "  - `urlparse.urljoin(url1, url2)`\n",
    "- To actually *get* the page, you should use the module `requests`\n",
    "  - `page = requests.get(URL)`\n",
    "  - `soup = BeautifulSoup(page.content , \"html.parser\"`\n",
    "- Process:\n",
    "  - How ma"
   ]
  },
  {
   "cell_type": "markdown",
   "metadata": {},
   "source": [
    "## Summary\n",
    "- **Deadline**: 1st April 2022 18:00\n"
   ]
  },
  {
   "cell_type": "markdown",
   "metadata": {},
   "source": [
    "## Group 14\n",
    "- Antonio Sanchez Martin - ''5245834''\n",
    "- Felix Unger - ''5673631''\n",
    "- Jeroen van Paassen - ''4720970''\n",
    "- Yunus Emre Torlak - ''5597668''"
   ]
  },
  {
   "cell_type": "markdown",
   "metadata": {},
   "source": [
    "## Planning:\n",
    "\n",
    "1. Put the code in visual studio and visualize the basic dataset\n",
    "2. Figure out how to use the dataset to do the plots\n",
    "3. Make the plots (draw conslusions?)\n",
    "4. How do we use the plots to answer the questions?\n",
    "5. Structure the report, divide the questions and explain relevant plots"
   ]
  },
  {
   "cell_type": "markdown",
   "metadata": {},
   "source": []
  },
  {
   "cell_type": "markdown",
   "metadata": {},
   "source": [
    "# Data Scraping\n",
    "- Row -> Article entry on the website\n",
    "- Columns -> \n",
    "  - Name\n",
    "  - Date\n",
    "  - Time\n",
    "- Idea: Use `datetime` for storing the date data in a flexible format."
   ]
  },
  {
   "cell_type": "code",
   "execution_count": 115,
   "metadata": {},
   "outputs": [],
   "source": [
    "website = 'https://jdestefani.github.io/SEN163A-TabularRazorArchives/'"
   ]
  },
  {
   "cell_type": "code",
   "execution_count": 116,
   "metadata": {},
   "outputs": [
    {
     "name": "stdout",
     "output_type": "stream",
     "text": [
      "<html>\n",
      " <head>\n",
      "  <title>\n",
      "   Articles\n",
      "  </title>\n",
      " </head>\n",
      " <body>\n",
      "  <h1>\n",
      "   All articles\n",
      "  </h1>\n",
      "  <br/>\n",
      "  <br/>\n",
      "  <h2>\n",
      "   Articles year 2012\n",
      "  </h2>\n",
      "  <br/>\n",
      "  <div class=\"yearlink\">\n",
      "   <a href=\"./2012.html\">\n",
      "    Articles in 2012\n",
      "   </a>\n",
      "  </div>\n",
      "  <h2>\n",
      "   Articles year 2013\n",
      "  </h2>\n",
      "  <br/>\n",
      "  <div class=\"yearlink\">\n",
      "   <a href=\"./2013.html\">\n",
      "    Articles in 2013\n",
      "   </a>\n",
      "  </div>\n",
      "  <h2>\n",
      "   Articles year 2014\n",
      "  </h2>\n",
      "  <br/>\n",
      "  <div class=\"yearlink\">\n",
      "   <a href=\"./2014.html\">\n",
      "    Articles in 2014\n",
      "   </a>\n",
      "  </div>\n",
      "  <h2>\n",
      "   Articles year 2015\n",
      "  </h2>\n",
      "  <br/>\n",
      "  <div class=\"yearlink\">\n",
      "   <a href=\"./2015.html\">\n",
      "    Articles in 2015\n",
      "   </a>\n",
      "  </div>\n",
      "  <h2>\n",
      "   Articles year 2016\n",
      "  </h2>\n",
      "  <br/>\n",
      "  <div class=\"yearlink\">\n",
      "   <a href=\"./2016.html\">\n",
      "    Articles in 2016\n",
      "   </a>\n",
      "  </div>\n",
      "  <h2>\n",
      "   Articles year 2017\n",
      "  </h2>\n",
      "  <br/>\n",
      "  <div class=\"yearlink\">\n",
      "   <a href=\"./2017.html\">\n",
      "    Articles in 2017\n",
      "   </a>\n",
      "  </div>\n",
      "  <h2>\n",
      "   Articles year 2018\n",
      "  </h2>\n",
      "  <br/>\n",
      "  <div class=\"yearlink\">\n",
      "   <a href=\"./2018.html\">\n",
      "    Articles in 2018\n",
      "   </a>\n",
      "  </div>\n",
      "  <h2>\n",
      "   Articles year 2019\n",
      "  </h2>\n",
      "  <br/>\n",
      "  <div class=\"yearlink\">\n",
      "   <a href=\"./2019.html\">\n",
      "    Articles in 2019\n",
      "   </a>\n",
      "  </div>\n",
      " </body>\n",
      "</html>\n"
     ]
    }
   ],
   "source": [
    "import requests\n",
    "import bs4 as bs\n",
    "\n",
    "get_soup = lambda link: bs.BeautifulSoup(requests.get(link).content)\n",
    "soup = get_soup(website)\n",
    "print(soup.prettify())"
   ]
  },
  {
   "cell_type": "code",
   "execution_count": 117,
   "metadata": {},
   "outputs": [
    {
     "name": "stdout",
     "output_type": "stream",
     "text": [
      "['https://jdestefani.github.io/SEN163A-TabularRazorArchives/2012.html', 'https://jdestefani.github.io/SEN163A-TabularRazorArchives/2013.html', 'https://jdestefani.github.io/SEN163A-TabularRazorArchives/2014.html', 'https://jdestefani.github.io/SEN163A-TabularRazorArchives/2015.html', 'https://jdestefani.github.io/SEN163A-TabularRazorArchives/2016.html', 'https://jdestefani.github.io/SEN163A-TabularRazorArchives/2017.html', 'https://jdestefani.github.io/SEN163A-TabularRazorArchives/2018.html', 'https://jdestefani.github.io/SEN163A-TabularRazorArchives/2019.html']\n"
     ]
    }
   ],
   "source": [
    "# Get all links on site\n",
    "# Checked: Works as expected\n",
    "from urllib.parse import urljoin\n",
    "\n",
    "def get_links(to_scrape = 'https://jdestefani.github.io/SEN163A-TabularRazorArchives/'):\n",
    "    soup = get_soup(to_scrape)\n",
    "    links = soup.find_all('a', href=True)\n",
    "    if links is False:\n",
    "        return [] # remember that empty arrays are \"false\" in python\n",
    "    links = [urljoin(to_scrape, link['href']) for link in links]\n",
    "    return links\n",
    "\n",
    "print(get_links(to_scrape=website))"
   ]
  },
  {
   "cell_type": "markdown",
   "metadata": {},
   "source": []
  },
  {
   "cell_type": "markdown",
   "metadata": {},
   "source": []
  },
  {
   "cell_type": "markdown",
   "metadata": {},
   "source": []
  },
  {
   "cell_type": "markdown",
   "metadata": {},
   "source": []
  },
  {
   "cell_type": "markdown",
   "metadata": {},
   "source": []
  },
  {
   "cell_type": "markdown",
   "metadata": {},
   "source": []
  },
  {
   "cell_type": "markdown",
   "metadata": {},
   "source": []
  },
  {
   "cell_type": "code",
   "execution_count": 118,
   "metadata": {},
   "outputs": [
    {
     "name": "stderr",
     "output_type": "stream",
     "text": [
      "UsageError: Line magic function `%%script` not found.\n"
     ]
    }
   ],
   "source": [
    "# Start getting url\n",
    "%%script false --no-raise-error\n",
    "import pandas as pd\n",
    "import threading\n",
    "import concurrent.futures\n",
    "\n",
    "class Scraper:\n",
    "    def __init__(self, website:str):\n",
    "        self.scraped_data = list() # create a list to append all website inforation\n",
    "        self._lock = threading.Lock()\n",
    "        self.scrape(website)\n",
    "        fields = ['link','author', 'date', 'time'] # columns of table\n",
    "        self.scraped_data= pd.DataFrame(self.scraped_data, columns = fields) # export as a dataframe\n",
    "\n",
    "    def scrape(self, website): \n",
    "        all_links = get_links(website)\n",
    "        if all_links:\n",
    "            # Keep on searching\n",
    "            with concurrent.futures.ThreadPoolExecutor() as executor:\n",
    "                for link in all_links:\n",
    "                    print(f\"Scraping: {link}\\n\")\n",
    "                    executor.submit(self.scrape, link)\n",
    "        else:\n",
    "            # Get the data (i.e. base case)\n",
    "            soup = get_soup(website) # get the soup object for extracting info\n",
    "            web_info= list()\n",
    "            web_info.append(website)\n",
    "            web_info.append(soup.find_all('div', class_='author')[0].text)\n",
    "            web_info.append(soup.find_all('div', class_='date')[0].text)\n",
    "            web_info.append(soup.find_all('div', class_='time')[0].text)\n",
    "            with self._lock:\n",
    "                self.scraped_data.append(web_info) # append to object list\n",
    "            \n",
    "# output = Scraper(website)\n",
    "output = Scraper(website).scraped_data\n",
    "\n",
    "# Save the data so that it does not have to be scraped every time\n",
    "output.to_csv('scraped_data.csv', index=False)\n"
   ]
  },
  {
   "cell_type": "code",
   "execution_count": 119,
   "metadata": {},
   "outputs": [
    {
     "name": "stdout",
     "output_type": "stream",
     "text": [
      "<class 'pandas.core.frame.DataFrame'>\n",
      "RangeIndex: 39126 entries, 0 to 39125\n",
      "Data columns (total 4 columns):\n",
      " #   Column  Non-Null Count  Dtype \n",
      "---  ------  --------------  ----- \n",
      " 0   link    39126 non-null  object\n",
      " 1   author  39126 non-null  object\n",
      " 2   date    39126 non-null  object\n",
      " 3   time    39126 non-null  object\n",
      "dtypes: object(4)\n",
      "memory usage: 1.2+ MB\n"
     ]
    }
   ],
   "source": [
    "# Load the scraped web data\n",
    "import pandas as pd\n",
    "web_data = pd.read_csv('2012.csv')\n",
    "web_data.info()"
   ]
  },
  {
   "cell_type": "markdown",
   "metadata": {},
   "source": [
    "## Notes\n",
    "Some important things that we need to take into account when using the dataset:\n",
    "- there could be people with the exact same name\n",
    "- an absence of over 16 weeks could be considered as pregnancy (6 for pregnancy and 10 after giving birth)\n",
    "- for men that is at minimum 1 week (->can we link ''holidays'' to pregnancy of the partner?)"
   ]
  },
  {
   "cell_type": "markdown",
   "metadata": {},
   "source": [
    "## Answering the questions\n",
    "-  Questions:\n",
    "    1. Are there are couples among the employees. If so, who? Are they still together?\n",
    "       1. Look if they go on holidays together\n",
    "         - For this we look at the covariance by plotting the productivity of employees sharing the same name over time\n",
    "       2. Look at shared surnames\n",
    "         - For this we plot a table with the surnames and how many times they occur over all authors\n",
    "       3. Look if they changed surnames\n",
    "    2. Did any of the employees have a child? If so, who?\n",
    "       1. 9+ month \"break\", an absence of 16 weeks\n",
    "         - We plot a histogram with the amount of days (x-axis) since last posted and amount of authors (y-axis)\n",
    "       2. If the mother leaves for 9+ months, then the father might also take a leave (at minimum 1 week)\n",
    "       3. They might decrease how much they work (frequency of publish)\n",
    "    3. If you would be looking to work for Tabularazor Inc., how many holidays can you expect to get per year?\n",
    "       1. Look at all periods that are larger than \"working but not publishing\", but shorter than \"we're having a baby\"\n",
    "          - We plot the productivity of random employees to see the average productivity over time"
   ]
  },
  {
   "cell_type": "markdown",
   "metadata": {},
   "source": [
    "# Plots\n",
    "First, we plot some diagrams to visualize the dataset that we have. The plots that we will make are:\n",
    "- [X] histogram with number of employees on y-axis and amount of work posted on the x-axis (to see frequency of work posted/ distribution of productivity)\n",
    "- [ ] a plot with the productivity of a random employee over time\n",
    "- [X] table with surnames and the amount of authors with that surname\n",
    "- [ ] the productivity of employees sharing the same surname over time? (covariance)\n",
    "- [ ] scatterplot with years on x-axis and time on y-axis, to see the behaviour of posting articles over time"
   ]
  },
  {
   "cell_type": "markdown",
   "metadata": {},
   "source": [
    "### Scatterplot\n",
    "Axis Formatting:\n",
    "-y-axis Timestamp with 0-24 h \n",
    "-x-axis date from 2012 to 2020\n",
    "-different colors each employee\n",
    "\n",
    "Analysis: \n",
    "-changes in publishing time and frequency? \n",
    "-correlation to children or marriage? \n",
    "\n",
    "\n"
   ]
  },
  {
   "cell_type": "markdown",
   "metadata": {},
   "source": [
    "### Employee Histog\n",
    "\n",
    "Axis Formatting: histogram with number of employees on x-axis and amount of work posted on the y-axis (to see frequency of work posted), \n",
    "note: if productivity is double the average, it could be the case that there are 2 employees with the exact same name\n",
    "\n",
    "    "
   ]
  },
  {
   "cell_type": "markdown",
   "metadata": {},
   "source": [
    "## Data expansion:\n"
   ]
  },
  {
   "cell_type": "code",
   "execution_count": 121,
   "metadata": {},
   "outputs": [],
   "source": [
    "# print(web_data.iloc[0]['date'].date()) # the type of the time"
   ]
  },
  {
   "cell_type": "markdown",
   "metadata": {},
   "source": [
    "### Convert to datetime format\n",
    "- Why?-> Because that way we can "
   ]
  },
  {
   "cell_type": "code",
   "execution_count": 122,
   "metadata": {},
   "outputs": [
    {
     "data": {
      "text/html": [
       "<div>\n",
       "<style scoped>\n",
       "    .dataframe tbody tr th:only-of-type {\n",
       "        vertical-align: middle;\n",
       "    }\n",
       "\n",
       "    .dataframe tbody tr th {\n",
       "        vertical-align: top;\n",
       "    }\n",
       "\n",
       "    .dataframe thead th {\n",
       "        text-align: right;\n",
       "    }\n",
       "</style>\n",
       "<table border=\"1\" class=\"dataframe\">\n",
       "  <thead>\n",
       "    <tr style=\"text-align: right;\">\n",
       "      <th></th>\n",
       "      <th>link</th>\n",
       "      <th>author</th>\n",
       "      <th>date</th>\n",
       "      <th>time</th>\n",
       "      <th>datetime</th>\n",
       "    </tr>\n",
       "  </thead>\n",
       "  <tbody>\n",
       "    <tr>\n",
       "      <th>0</th>\n",
       "      <td>https://jdestefani.github.io/SEN163A-TabularRa...</td>\n",
       "      <td>Leandro Marse</td>\n",
       "      <td>2012-01-01</td>\n",
       "      <td>10:52</td>\n",
       "      <td>2012-01-01 10:52:00</td>\n",
       "    </tr>\n",
       "    <tr>\n",
       "      <th>1</th>\n",
       "      <td>https://jdestefani.github.io/SEN163A-TabularRa...</td>\n",
       "      <td>Jaye Shimek</td>\n",
       "      <td>2012-01-01</td>\n",
       "      <td>15:17</td>\n",
       "      <td>2012-01-01 15:17:00</td>\n",
       "    </tr>\n",
       "    <tr>\n",
       "      <th>2</th>\n",
       "      <td>https://jdestefani.github.io/SEN163A-TabularRa...</td>\n",
       "      <td>Marthe Hale</td>\n",
       "      <td>2012-01-02</td>\n",
       "      <td>09:01</td>\n",
       "      <td>2012-01-02 09:01:00</td>\n",
       "    </tr>\n",
       "    <tr>\n",
       "      <th>3</th>\n",
       "      <td>https://jdestefani.github.io/SEN163A-TabularRa...</td>\n",
       "      <td>Marthe Hale</td>\n",
       "      <td>2012-01-02</td>\n",
       "      <td>09:02</td>\n",
       "      <td>2012-01-02 09:02:00</td>\n",
       "    </tr>\n",
       "    <tr>\n",
       "      <th>4</th>\n",
       "      <td>https://jdestefani.github.io/SEN163A-TabularRa...</td>\n",
       "      <td>Andreas Jost</td>\n",
       "      <td>2012-01-02</td>\n",
       "      <td>09:06</td>\n",
       "      <td>2012-01-02 09:06:00</td>\n",
       "    </tr>\n",
       "  </tbody>\n",
       "</table>\n",
       "</div>"
      ],
      "text/plain": [
       "                                                link         author  \\\n",
       "0  https://jdestefani.github.io/SEN163A-TabularRa...  Leandro Marse   \n",
       "1  https://jdestefani.github.io/SEN163A-TabularRa...    Jaye Shimek   \n",
       "2  https://jdestefani.github.io/SEN163A-TabularRa...    Marthe Hale   \n",
       "3  https://jdestefani.github.io/SEN163A-TabularRa...    Marthe Hale   \n",
       "4  https://jdestefani.github.io/SEN163A-TabularRa...   Andreas Jost   \n",
       "\n",
       "         date   time            datetime  \n",
       "0  2012-01-01  10:52 2012-01-01 10:52:00  \n",
       "1  2012-01-01  15:17 2012-01-01 15:17:00  \n",
       "2  2012-01-02  09:01 2012-01-02 09:01:00  \n",
       "3  2012-01-02  09:02 2012-01-02 09:02:00  \n",
       "4  2012-01-02  09:06 2012-01-02 09:06:00  "
      ]
     },
     "execution_count": 122,
     "metadata": {},
     "output_type": "execute_result"
    }
   ],
   "source": [
    "web_data['datetime'] = web_data['time'] + \" \" +  web_data['date']\n",
    "web_data['datetime'] = pd.to_datetime(web_data['datetime'])\n",
    "web_data.sort_values(by=['datetime'], inplace=True, ignore_index=True)\n",
    "web_data.head()"
   ]
  },
  {
   "cell_type": "markdown",
   "metadata": {},
   "source": [
    "### Name and Surname division\n",
    "- Why? -> For instance, to check a change of name"
   ]
  },
  {
   "cell_type": "code",
   "execution_count": 123,
   "metadata": {},
   "outputs": [
    {
     "data": {
      "text/html": [
       "<div>\n",
       "<style scoped>\n",
       "    .dataframe tbody tr th:only-of-type {\n",
       "        vertical-align: middle;\n",
       "    }\n",
       "\n",
       "    .dataframe tbody tr th {\n",
       "        vertical-align: top;\n",
       "    }\n",
       "\n",
       "    .dataframe thead th {\n",
       "        text-align: right;\n",
       "    }\n",
       "</style>\n",
       "<table border=\"1\" class=\"dataframe\">\n",
       "  <thead>\n",
       "    <tr style=\"text-align: right;\">\n",
       "      <th></th>\n",
       "      <th>link</th>\n",
       "      <th>author</th>\n",
       "      <th>date</th>\n",
       "      <th>time</th>\n",
       "      <th>datetime</th>\n",
       "      <th>Name</th>\n",
       "      <th>Surname</th>\n",
       "    </tr>\n",
       "  </thead>\n",
       "  <tbody>\n",
       "    <tr>\n",
       "      <th>0</th>\n",
       "      <td>https://jdestefani.github.io/SEN163A-TabularRa...</td>\n",
       "      <td>Leandro Marse</td>\n",
       "      <td>2012-01-01</td>\n",
       "      <td>10:52</td>\n",
       "      <td>2012-01-01 10:52:00</td>\n",
       "      <td>Leandro</td>\n",
       "      <td>Marse</td>\n",
       "    </tr>\n",
       "    <tr>\n",
       "      <th>1</th>\n",
       "      <td>https://jdestefani.github.io/SEN163A-TabularRa...</td>\n",
       "      <td>Jaye Shimek</td>\n",
       "      <td>2012-01-01</td>\n",
       "      <td>15:17</td>\n",
       "      <td>2012-01-01 15:17:00</td>\n",
       "      <td>Jaye</td>\n",
       "      <td>Shimek</td>\n",
       "    </tr>\n",
       "    <tr>\n",
       "      <th>2</th>\n",
       "      <td>https://jdestefani.github.io/SEN163A-TabularRa...</td>\n",
       "      <td>Marthe Hale</td>\n",
       "      <td>2012-01-02</td>\n",
       "      <td>09:01</td>\n",
       "      <td>2012-01-02 09:01:00</td>\n",
       "      <td>Marthe</td>\n",
       "      <td>Hale</td>\n",
       "    </tr>\n",
       "    <tr>\n",
       "      <th>3</th>\n",
       "      <td>https://jdestefani.github.io/SEN163A-TabularRa...</td>\n",
       "      <td>Marthe Hale</td>\n",
       "      <td>2012-01-02</td>\n",
       "      <td>09:02</td>\n",
       "      <td>2012-01-02 09:02:00</td>\n",
       "      <td>Marthe</td>\n",
       "      <td>Hale</td>\n",
       "    </tr>\n",
       "    <tr>\n",
       "      <th>4</th>\n",
       "      <td>https://jdestefani.github.io/SEN163A-TabularRa...</td>\n",
       "      <td>Andreas Jost</td>\n",
       "      <td>2012-01-02</td>\n",
       "      <td>09:06</td>\n",
       "      <td>2012-01-02 09:06:00</td>\n",
       "      <td>Andreas</td>\n",
       "      <td>Jost</td>\n",
       "    </tr>\n",
       "  </tbody>\n",
       "</table>\n",
       "</div>"
      ],
      "text/plain": [
       "                                                link         author  \\\n",
       "0  https://jdestefani.github.io/SEN163A-TabularRa...  Leandro Marse   \n",
       "1  https://jdestefani.github.io/SEN163A-TabularRa...    Jaye Shimek   \n",
       "2  https://jdestefani.github.io/SEN163A-TabularRa...    Marthe Hale   \n",
       "3  https://jdestefani.github.io/SEN163A-TabularRa...    Marthe Hale   \n",
       "4  https://jdestefani.github.io/SEN163A-TabularRa...   Andreas Jost   \n",
       "\n",
       "         date   time            datetime     Name Surname  \n",
       "0  2012-01-01  10:52 2012-01-01 10:52:00  Leandro   Marse  \n",
       "1  2012-01-01  15:17 2012-01-01 15:17:00     Jaye  Shimek  \n",
       "2  2012-01-02  09:01 2012-01-02 09:01:00   Marthe    Hale  \n",
       "3  2012-01-02  09:02 2012-01-02 09:02:00   Marthe    Hale  \n",
       "4  2012-01-02  09:06 2012-01-02 09:06:00  Andreas    Jost  "
      ]
     },
     "execution_count": 123,
     "metadata": {},
     "output_type": "execute_result"
    }
   ],
   "source": [
    "# new data frame with split value columns\n",
    "temp = web_data[\"author\"].str.split(\" \", n = 1, expand = True)\n",
    "# making separate first name column from new data frame\n",
    "web_data[\"Name\"]= temp[0]\n",
    "# making separate last name column from new data frame\n",
    "web_data[\"Surname\"]= temp[1]\n",
    "web_data.head()"
   ]
  },
  {
   "cell_type": "markdown",
   "metadata": {},
   "source": [
    "\n",
    "### Days since last publication\n",
    "- Why? -> It will help with detecting holidays and when people took them."
   ]
  },
  {
   "cell_type": "code",
   "execution_count": 159,
   "metadata": {},
   "outputs": [
    {
     "name": "stdout",
     "output_type": "stream",
     "text": [
      "0 days 00:01:00\n"
     ]
    },
    {
     "data": {
      "text/html": [
       "<div>\n",
       "<style scoped>\n",
       "    .dataframe tbody tr th:only-of-type {\n",
       "        vertical-align: middle;\n",
       "    }\n",
       "\n",
       "    .dataframe tbody tr th {\n",
       "        vertical-align: top;\n",
       "    }\n",
       "\n",
       "    .dataframe thead th {\n",
       "        text-align: right;\n",
       "    }\n",
       "</style>\n",
       "<table border=\"1\" class=\"dataframe\">\n",
       "  <thead>\n",
       "    <tr style=\"text-align: right;\">\n",
       "      <th></th>\n",
       "      <th>link</th>\n",
       "      <th>author</th>\n",
       "      <th>date</th>\n",
       "      <th>time</th>\n",
       "      <th>datetime</th>\n",
       "      <th>Name</th>\n",
       "      <th>Surname</th>\n",
       "      <th>time_since_pub</th>\n",
       "    </tr>\n",
       "  </thead>\n",
       "  <tbody>\n",
       "    <tr>\n",
       "      <th>0</th>\n",
       "      <td>https://jdestefani.github.io/SEN163A-TabularRa...</td>\n",
       "      <td>Leandro Marse</td>\n",
       "      <td>2012-01-01</td>\n",
       "      <td>10:52</td>\n",
       "      <td>2012-01-01 10:52:00</td>\n",
       "      <td>Leandro</td>\n",
       "      <td>Marse</td>\n",
       "      <td>0 days 00:00:00</td>\n",
       "    </tr>\n",
       "    <tr>\n",
       "      <th>1</th>\n",
       "      <td>https://jdestefani.github.io/SEN163A-TabularRa...</td>\n",
       "      <td>Jaye Shimek</td>\n",
       "      <td>2012-01-01</td>\n",
       "      <td>15:17</td>\n",
       "      <td>2012-01-01 15:17:00</td>\n",
       "      <td>Jaye</td>\n",
       "      <td>Shimek</td>\n",
       "      <td>0 days 00:00:00</td>\n",
       "    </tr>\n",
       "    <tr>\n",
       "      <th>2</th>\n",
       "      <td>https://jdestefani.github.io/SEN163A-TabularRa...</td>\n",
       "      <td>Marthe Hale</td>\n",
       "      <td>2012-01-02</td>\n",
       "      <td>09:01</td>\n",
       "      <td>2012-01-02 09:01:00</td>\n",
       "      <td>Marthe</td>\n",
       "      <td>Hale</td>\n",
       "      <td>0 days 00:00:00</td>\n",
       "    </tr>\n",
       "    <tr>\n",
       "      <th>3</th>\n",
       "      <td>https://jdestefani.github.io/SEN163A-TabularRa...</td>\n",
       "      <td>Marthe Hale</td>\n",
       "      <td>2012-01-02</td>\n",
       "      <td>09:02</td>\n",
       "      <td>2012-01-02 09:02:00</td>\n",
       "      <td>Marthe</td>\n",
       "      <td>Hale</td>\n",
       "      <td>0 days 00:01:00</td>\n",
       "    </tr>\n",
       "    <tr>\n",
       "      <th>4</th>\n",
       "      <td>https://jdestefani.github.io/SEN163A-TabularRa...</td>\n",
       "      <td>Andreas Jost</td>\n",
       "      <td>2012-01-02</td>\n",
       "      <td>09:06</td>\n",
       "      <td>2012-01-02 09:06:00</td>\n",
       "      <td>Andreas</td>\n",
       "      <td>Jost</td>\n",
       "      <td>0 days 00:00:00</td>\n",
       "    </tr>\n",
       "    <tr>\n",
       "      <th>5</th>\n",
       "      <td>https://jdestefani.github.io/SEN163A-TabularRa...</td>\n",
       "      <td>Anisha Mathes</td>\n",
       "      <td>2012-01-02</td>\n",
       "      <td>09:09</td>\n",
       "      <td>2012-01-02 09:09:00</td>\n",
       "      <td>Anisha</td>\n",
       "      <td>Mathes</td>\n",
       "      <td>0 days 00:00:00</td>\n",
       "    </tr>\n",
       "    <tr>\n",
       "      <th>6</th>\n",
       "      <td>https://jdestefani.github.io/SEN163A-TabularRa...</td>\n",
       "      <td>Remedios Fincham</td>\n",
       "      <td>2012-01-02</td>\n",
       "      <td>09:13</td>\n",
       "      <td>2012-01-02 09:13:00</td>\n",
       "      <td>Remedios</td>\n",
       "      <td>Fincham</td>\n",
       "      <td>0 days 00:00:00</td>\n",
       "    </tr>\n",
       "    <tr>\n",
       "      <th>7</th>\n",
       "      <td>https://jdestefani.github.io/SEN163A-TabularRa...</td>\n",
       "      <td>Lavonna Sim</td>\n",
       "      <td>2012-01-02</td>\n",
       "      <td>09:15</td>\n",
       "      <td>2012-01-02 09:15:00</td>\n",
       "      <td>Lavonna</td>\n",
       "      <td>Sim</td>\n",
       "      <td>0 days 00:00:00</td>\n",
       "    </tr>\n",
       "    <tr>\n",
       "      <th>8</th>\n",
       "      <td>https://jdestefani.github.io/SEN163A-TabularRa...</td>\n",
       "      <td>Jeannie Liang</td>\n",
       "      <td>2012-01-02</td>\n",
       "      <td>09:20</td>\n",
       "      <td>2012-01-02 09:20:00</td>\n",
       "      <td>Jeannie</td>\n",
       "      <td>Liang</td>\n",
       "      <td>0 days 00:00:00</td>\n",
       "    </tr>\n",
       "    <tr>\n",
       "      <th>9</th>\n",
       "      <td>https://jdestefani.github.io/SEN163A-TabularRa...</td>\n",
       "      <td>Aurea Durrance</td>\n",
       "      <td>2012-01-02</td>\n",
       "      <td>09:20</td>\n",
       "      <td>2012-01-02 09:20:00</td>\n",
       "      <td>Aurea</td>\n",
       "      <td>Durrance</td>\n",
       "      <td>0 days 00:00:00</td>\n",
       "    </tr>\n",
       "    <tr>\n",
       "      <th>10</th>\n",
       "      <td>https://jdestefani.github.io/SEN163A-TabularRa...</td>\n",
       "      <td>Donte Berkeley</td>\n",
       "      <td>2012-01-02</td>\n",
       "      <td>09:22</td>\n",
       "      <td>2012-01-02 09:22:00</td>\n",
       "      <td>Donte</td>\n",
       "      <td>Berkeley</td>\n",
       "      <td>0 days 00:00:00</td>\n",
       "    </tr>\n",
       "    <tr>\n",
       "      <th>11</th>\n",
       "      <td>https://jdestefani.github.io/SEN163A-TabularRa...</td>\n",
       "      <td>Michale Tuch</td>\n",
       "      <td>2012-01-02</td>\n",
       "      <td>09:26</td>\n",
       "      <td>2012-01-02 09:26:00</td>\n",
       "      <td>Michale</td>\n",
       "      <td>Tuch</td>\n",
       "      <td>0 days 00:00:00</td>\n",
       "    </tr>\n",
       "    <tr>\n",
       "      <th>12</th>\n",
       "      <td>https://jdestefani.github.io/SEN163A-TabularRa...</td>\n",
       "      <td>Harmony Mcmurtry</td>\n",
       "      <td>2012-01-02</td>\n",
       "      <td>09:34</td>\n",
       "      <td>2012-01-02 09:34:00</td>\n",
       "      <td>Harmony</td>\n",
       "      <td>Mcmurtry</td>\n",
       "      <td>0 days 00:00:00</td>\n",
       "    </tr>\n",
       "    <tr>\n",
       "      <th>13</th>\n",
       "      <td>https://jdestefani.github.io/SEN163A-TabularRa...</td>\n",
       "      <td>Harmony Mcmurtry</td>\n",
       "      <td>2012-01-02</td>\n",
       "      <td>09:35</td>\n",
       "      <td>2012-01-02 09:35:00</td>\n",
       "      <td>Harmony</td>\n",
       "      <td>Mcmurtry</td>\n",
       "      <td>0 days 00:01:00</td>\n",
       "    </tr>\n",
       "    <tr>\n",
       "      <th>14</th>\n",
       "      <td>https://jdestefani.github.io/SEN163A-TabularRa...</td>\n",
       "      <td>Lavonna Sim</td>\n",
       "      <td>2012-01-02</td>\n",
       "      <td>09:40</td>\n",
       "      <td>2012-01-02 09:40:00</td>\n",
       "      <td>Lavonna</td>\n",
       "      <td>Sim</td>\n",
       "      <td>0 days 00:25:00</td>\n",
       "    </tr>\n",
       "    <tr>\n",
       "      <th>15</th>\n",
       "      <td>https://jdestefani.github.io/SEN163A-TabularRa...</td>\n",
       "      <td>Annie Lapham</td>\n",
       "      <td>2012-01-02</td>\n",
       "      <td>09:47</td>\n",
       "      <td>2012-01-02 09:47:00</td>\n",
       "      <td>Annie</td>\n",
       "      <td>Lapham</td>\n",
       "      <td>0 days 00:00:00</td>\n",
       "    </tr>\n",
       "    <tr>\n",
       "      <th>16</th>\n",
       "      <td>https://jdestefani.github.io/SEN163A-TabularRa...</td>\n",
       "      <td>Vance Ates</td>\n",
       "      <td>2012-01-02</td>\n",
       "      <td>09:48</td>\n",
       "      <td>2012-01-02 09:48:00</td>\n",
       "      <td>Vance</td>\n",
       "      <td>Ates</td>\n",
       "      <td>0 days 00:00:00</td>\n",
       "    </tr>\n",
       "    <tr>\n",
       "      <th>17</th>\n",
       "      <td>https://jdestefani.github.io/SEN163A-TabularRa...</td>\n",
       "      <td>Jarvis Pratts</td>\n",
       "      <td>2012-01-02</td>\n",
       "      <td>09:50</td>\n",
       "      <td>2012-01-02 09:50:00</td>\n",
       "      <td>Jarvis</td>\n",
       "      <td>Pratts</td>\n",
       "      <td>0 days 00:00:00</td>\n",
       "    </tr>\n",
       "    <tr>\n",
       "      <th>18</th>\n",
       "      <td>https://jdestefani.github.io/SEN163A-TabularRa...</td>\n",
       "      <td>Lisette Tolleson</td>\n",
       "      <td>2012-01-02</td>\n",
       "      <td>09:50</td>\n",
       "      <td>2012-01-02 09:50:00</td>\n",
       "      <td>Lisette</td>\n",
       "      <td>Tolleson</td>\n",
       "      <td>0 days 00:00:00</td>\n",
       "    </tr>\n",
       "    <tr>\n",
       "      <th>19</th>\n",
       "      <td>https://jdestefani.github.io/SEN163A-TabularRa...</td>\n",
       "      <td>Lisette Tolleson</td>\n",
       "      <td>2012-01-02</td>\n",
       "      <td>09:52</td>\n",
       "      <td>2012-01-02 09:52:00</td>\n",
       "      <td>Lisette</td>\n",
       "      <td>Tolleson</td>\n",
       "      <td>0 days 00:02:00</td>\n",
       "    </tr>\n",
       "  </tbody>\n",
       "</table>\n",
       "</div>"
      ],
      "text/plain": [
       "                                                 link            author  \\\n",
       "0   https://jdestefani.github.io/SEN163A-TabularRa...     Leandro Marse   \n",
       "1   https://jdestefani.github.io/SEN163A-TabularRa...       Jaye Shimek   \n",
       "2   https://jdestefani.github.io/SEN163A-TabularRa...       Marthe Hale   \n",
       "3   https://jdestefani.github.io/SEN163A-TabularRa...       Marthe Hale   \n",
       "4   https://jdestefani.github.io/SEN163A-TabularRa...      Andreas Jost   \n",
       "5   https://jdestefani.github.io/SEN163A-TabularRa...     Anisha Mathes   \n",
       "6   https://jdestefani.github.io/SEN163A-TabularRa...  Remedios Fincham   \n",
       "7   https://jdestefani.github.io/SEN163A-TabularRa...       Lavonna Sim   \n",
       "8   https://jdestefani.github.io/SEN163A-TabularRa...     Jeannie Liang   \n",
       "9   https://jdestefani.github.io/SEN163A-TabularRa...    Aurea Durrance   \n",
       "10  https://jdestefani.github.io/SEN163A-TabularRa...    Donte Berkeley   \n",
       "11  https://jdestefani.github.io/SEN163A-TabularRa...      Michale Tuch   \n",
       "12  https://jdestefani.github.io/SEN163A-TabularRa...  Harmony Mcmurtry   \n",
       "13  https://jdestefani.github.io/SEN163A-TabularRa...  Harmony Mcmurtry   \n",
       "14  https://jdestefani.github.io/SEN163A-TabularRa...       Lavonna Sim   \n",
       "15  https://jdestefani.github.io/SEN163A-TabularRa...      Annie Lapham   \n",
       "16  https://jdestefani.github.io/SEN163A-TabularRa...        Vance Ates   \n",
       "17  https://jdestefani.github.io/SEN163A-TabularRa...     Jarvis Pratts   \n",
       "18  https://jdestefani.github.io/SEN163A-TabularRa...  Lisette Tolleson   \n",
       "19  https://jdestefani.github.io/SEN163A-TabularRa...  Lisette Tolleson   \n",
       "\n",
       "          date   time            datetime      Name   Surname  time_since_pub  \n",
       "0   2012-01-01  10:52 2012-01-01 10:52:00   Leandro     Marse 0 days 00:00:00  \n",
       "1   2012-01-01  15:17 2012-01-01 15:17:00      Jaye    Shimek 0 days 00:00:00  \n",
       "2   2012-01-02  09:01 2012-01-02 09:01:00    Marthe      Hale 0 days 00:00:00  \n",
       "3   2012-01-02  09:02 2012-01-02 09:02:00    Marthe      Hale 0 days 00:01:00  \n",
       "4   2012-01-02  09:06 2012-01-02 09:06:00   Andreas      Jost 0 days 00:00:00  \n",
       "5   2012-01-02  09:09 2012-01-02 09:09:00    Anisha    Mathes 0 days 00:00:00  \n",
       "6   2012-01-02  09:13 2012-01-02 09:13:00  Remedios   Fincham 0 days 00:00:00  \n",
       "7   2012-01-02  09:15 2012-01-02 09:15:00   Lavonna       Sim 0 days 00:00:00  \n",
       "8   2012-01-02  09:20 2012-01-02 09:20:00   Jeannie     Liang 0 days 00:00:00  \n",
       "9   2012-01-02  09:20 2012-01-02 09:20:00     Aurea  Durrance 0 days 00:00:00  \n",
       "10  2012-01-02  09:22 2012-01-02 09:22:00     Donte  Berkeley 0 days 00:00:00  \n",
       "11  2012-01-02  09:26 2012-01-02 09:26:00   Michale      Tuch 0 days 00:00:00  \n",
       "12  2012-01-02  09:34 2012-01-02 09:34:00   Harmony  Mcmurtry 0 days 00:00:00  \n",
       "13  2012-01-02  09:35 2012-01-02 09:35:00   Harmony  Mcmurtry 0 days 00:01:00  \n",
       "14  2012-01-02  09:40 2012-01-02 09:40:00   Lavonna       Sim 0 days 00:25:00  \n",
       "15  2012-01-02  09:47 2012-01-02 09:47:00     Annie    Lapham 0 days 00:00:00  \n",
       "16  2012-01-02  09:48 2012-01-02 09:48:00     Vance      Ates 0 days 00:00:00  \n",
       "17  2012-01-02  09:50 2012-01-02 09:50:00    Jarvis    Pratts 0 days 00:00:00  \n",
       "18  2012-01-02  09:50 2012-01-02 09:50:00   Lisette  Tolleson 0 days 00:00:00  \n",
       "19  2012-01-02  09:52 2012-01-02 09:52:00   Lisette  Tolleson 0 days 00:02:00  "
      ]
     },
     "execution_count": 159,
     "metadata": {},
     "output_type": "execute_result"
    }
   ],
   "source": [
    "import datetime as dt\n",
    "\n",
    "web_data['time_since_pub'] = web_data.groupby(['author'])['datetime'].diff()\n",
    "web_data['time_since_pub'].fillna(pd.Timedelta(seconds=0), inplace=True)\n",
    "print(web_data.loc[3, 'time_since_pub'])\n",
    "web_data.head(20)"
   ]
  },
  {
   "cell_type": "markdown",
   "metadata": {},
   "source": [
    "### Author List"
   ]
  },
  {
   "cell_type": "code",
   "execution_count": 148,
   "metadata": {},
   "outputs": [
    {
     "data": {
      "text/plain": [
       "Hale          1\n",
       "Heer          1\n",
       "Jost          1\n",
       "Roll          1\n",
       "Marse         1\n",
       "Sim           1\n",
       "Liang         1\n",
       "Woodside      1\n",
       "Echevarria    1\n",
       "Preiss        1\n",
       "Berkeley      1\n",
       "Defalco       1\n",
       "Tuch          1\n",
       "Mathes        1\n",
       "Ates          1\n",
       "Papa          1\n",
       "Blakemore     1\n",
       "Billips       1\n",
       "Shimek        1\n",
       "Core          1\n",
       "Paek          1\n",
       "Fincham       1\n",
       "Salmeron      1\n",
       "Toner         1\n",
       "Pratts        1\n",
       "Knapp         1\n",
       "Calcagni      1\n",
       "Lapham        1\n",
       "Dube          1\n",
       "Mcmurtry      1\n",
       "Tolleson      1\n",
       "Feather       1\n",
       "Ryals         1\n",
       "Marko         1\n",
       "Riva          1\n",
       "Durrance      1\n",
       "Gatlin        1\n",
       "Name: Surname, dtype: int64"
      ]
     },
     "execution_count": 148,
     "metadata": {},
     "output_type": "execute_result"
    }
   ],
   "source": [
    "author_list = web_data.loc[:, ['author']]\n",
    "# author_list_un = (author_list).unique()\n",
    "# new data frame with split value columns\n",
    "temp = author_list[\"author\"].str.split(\" \", n = 1, expand = True)\n",
    "# making separate first name column from new data frame\n",
    "author_list[\"Name\"]= temp[0]\n",
    "# making separate last name column from new data frame\n",
    "author_list[\"Surname\"]= temp[1]\n",
    "author_list.drop_duplicates(inplace=True)\n",
    "author_list.reset_index(inplace=True, drop=True)\n",
    "author_list.head()\n",
    "# author_list.sort_values(by='Surname').head(20)\n",
    "author_list['Surname'].value_counts()"
   ]
  },
  {
   "cell_type": "markdown",
   "metadata": {},
   "source": [
    "## Name Histogram\n",
    "2012"
   ]
  },
  {
   "cell_type": "code",
   "execution_count": 126,
   "metadata": {},
   "outputs": [
    {
     "data": {
      "text/plain": [
       "Text(0, 0.5, 'Number of authors')"
      ]
     },
     "execution_count": 126,
     "metadata": {},
     "output_type": "execute_result"
    },
    {
     "data": {
      "image/png": "[encoded data removed]",
      "text/plain": [
       "<Figure size 432x288 with 1 Axes>"
      ]
     },
     "metadata": {
      "needs_background": "light"
     },
     "output_type": "display_data"
    }
   ],
   "source": [
    "#determine the productivity\n",
    "# web_data.groupby(['author']).describe()\n",
    "import matplotlib.pyplot as plt\n",
    "\n",
    "plt.figure()\n",
    "plt.hist(web_data['author'].value_counts(), bins=100)\n",
    "plt.grid('both')\n",
    "plt.xlabel(\"Number of publications\")\n",
    "plt.ylabel(\"Number of authors\")\n"
   ]
  },
  {
   "cell_type": "markdown",
   "metadata": {},
   "source": [
    "## Hitogram with publication waiting times\n",
    "- Why? -> To derive holiday periods and the like"
   ]
  },
  {
   "cell_type": "code",
   "execution_count": 179,
   "metadata": {},
   "outputs": [
    {
     "data": {
      "text/plain": [
       "Text(0.5, 0, 'Days since last publication')"
      ]
     },
     "execution_count": 179,
     "metadata": {},
     "output_type": "execute_result"
    },
    {
     "data": {
      "image/png": "[encoded data removed]",
      "text/plain": [
       "<Figure size 432x288 with 1 Axes>"
      ]
     },
     "metadata": {
      "needs_background": "light"
     },
     "output_type": "display_data"
    }
   ],
   "source": [
    "# Remember that 0 means that it was the first entry\n",
    "at_least_hours = 24\n",
    "plt.figure()\n",
    "web_data[web_data[\"time_since_pub\"] > pd.Timedelta(hours=at_least_hours)]['time_since_pub'].astype('timedelta64[D]').plot.hist(bins=50, log=True, grid='both')\n",
    "plt.xlabel('Days since last publication')"
   ]
  },
  {
   "cell_type": "code",
   "execution_count": 127,
   "metadata": {},
   "outputs": [],
   "source": [
    "###Productivity over time\n",
    "\n",
    "#plot of the productivity of an employee over time\n",
    "#select a handful of employees that represent the dataset\n"
   ]
  }
 ],
 "metadata": {
  "interpreter": {
   "hash": "e7cb1b9ae4d417fedf7f40a8eec98f7cfbd359e096bd857395a915f4609834ce"
  },
  "kernelspec": {
   "display_name": "Python 3.9.1 ('base')",
   "language": "python",
   "name": "python3"
  },
  "language_info": {
   "codemirror_mode": {
    "name": "ipython",
    "version": 3
   },
   "file_extension": ".py",
   "mimetype": "text/x-python",
   "name": "python",
   "nbconvert_exporter": "python",
   "pygments_lexer": "ipython3",
   "version": "3.9.1"
  },
  "orig_nbformat": 4
 },
 "nbformat": 4,
 "nbformat_minor": 2
}
