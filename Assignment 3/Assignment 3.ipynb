{
 "cells": [
  {
   "cell_type": "markdown",
   "metadata": {},
   "source": [
    "# Assignment 3 Info\n"
   ]
  },
  {
   "cell_type": "markdown",
   "metadata": {},
   "source": [
    "## Class Notes\n",
    "- Use BeautifulSoup (4) for html scraping\n",
    "  - https://realpython.com/python-web-scraping-practical-introduction/\n",
    "  - https://realpython.com/beautiful-soup-web-scraper-python/#step-1-inspect-your-data-source\n",
    "  - `.prettify()` can be useful to look at the source code\n",
    "- To join absolute and reltative pages: use module `urlparse`\n",
    "  - `urlparse.urljoin(url1, url2)`\n",
    "- To actually *get* the page, you should use the module `requests`\n",
    "  - `page = requests.get(URL)`\n",
    "  - `soup = BeautifulSoup(page.content , \"html.parser\"`\n",
    "- Process:\n",
    "  - How ma"
   ]
  },
  {
   "cell_type": "markdown",
   "metadata": {},
   "source": [
    "## Summary\n",
    "- **Deadline**: 12 April 2022 18:00\n",
    "-  Questions:\n",
    "    1. Are there couples among the employees. If so, who? Are they still together?\n",
    "       1. Look if they go on holidays together\n",
    "       2. Look if they changed surnames\n",
    "       3. Look if they had children\n",
    "    2. Did any of the employees have a child? If so, who?\n",
    "       1. 9+ month \"break\"\n",
    "       2. If the mother leaves for 9+ months, then the father might also take a leave\n",
    "       3. They might decrease how much they work (frequency of publish)\n",
    "    3. If you would be looking to work for Tabularazor Inc., how many holidays can you expect to get per year?\n",
    "       1. Look at all periods that are larger than \"working but not publishing\", but shorter than \"we're having a baby\""
   ]
  },
  {
   "cell_type": "markdown",
   "metadata": {},
   "source": [
    "## Group 14\n",
    "- Antonio Sanchez Martin - ''5245834''\n",
    "- Felix Unger - ''5673631''\n",
    "- Jeroen van Paassen - ''4720970''\n",
    "- Yunus Emre Torlak - '' 5597668''"
   ]
  },
  {
   "cell_type": "code",
   "execution_count": 4,
   "metadata": {},
   "outputs": [],
   "source": [
    "website = 'https://jdestefani.github.io/SEN163A-TabularRazorArchives/'"
   ]
  },
  {
   "cell_type": "code",
   "execution_count": 5,
   "metadata": {},
   "outputs": [
    {
     "name": "stdout",
     "output_type": "stream",
     "text": [
      "<head>\n",
      " <title>\n",
      "  Articles\n",
      " </title>\n",
      "</head>\n",
      "<body>\n",
      " <h1>\n",
      "  All articles\n",
      " </h1>\n",
      " <br/>\n",
      " <br/>\n",
      " <h2>\n",
      "  Articles year 2012\n",
      " </h2>\n",
      " <br/>\n",
      " <div class=\"yearlink\">\n",
      "  <a href=\"./2012.html\">\n",
      "   Articles in 2012\n",
      "  </a>\n",
      " </div>\n",
      " <h2>\n",
      "  Articles year 2013\n",
      " </h2>\n",
      " <br/>\n",
      " <div class=\"yearlink\">\n",
      "  <a href=\"./2013.html\">\n",
      "   Articles in 2013\n",
      "  </a>\n",
      " </div>\n",
      " <h2>\n",
      "  Articles year 2014\n",
      " </h2>\n",
      " <br/>\n",
      " <div class=\"yearlink\">\n",
      "  <a href=\"./2014.html\">\n",
      "   Articles in 2014\n",
      "  </a>\n",
      " </div>\n",
      " <h2>\n",
      "  Articles year 2015\n",
      " </h2>\n",
      " <br/>\n",
      " <div class=\"yearlink\">\n",
      "  <a href=\"./2015.html\">\n",
      "   Articles in 2015\n",
      "  </a>\n",
      " </div>\n",
      " <h2>\n",
      "  Articles year 2016\n",
      " </h2>\n",
      " <br/>\n",
      " <div class=\"yearlink\">\n",
      "  <a href=\"./2016.html\">\n",
      "   Articles in 2016\n",
      "  </a>\n",
      " </div>\n",
      " <h2>\n",
      "  Articles year 2017\n",
      " </h2>\n",
      " <br/>\n",
      " <div class=\"yearlink\">\n",
      "  <a href=\"./2017.html\">\n",
      "   Articles in 2017\n",
      "  </a>\n",
      " </div>\n",
      " <h2>\n",
      "  Articles year 2018\n",
      " </h2>\n",
      " <br/>\n",
      " <div class=\"yearlink\">\n",
      "  <a href=\"./2018.html\">\n",
      "   Articles in 2018\n",
      "  </a>\n",
      " </div>\n",
      " <h2>\n",
      "  Articles year 2019\n",
      " </h2>\n",
      " <br/>\n",
      " <div class=\"yearlink\">\n",
      "  <a href=\"./2019.html\">\n",
      "   Articles in 2019\n",
      "  </a>\n",
      " </div>\n",
      "</body>\n"
     ]
    }
   ],
   "source": [
    "import requests\n",
    "import bs4 as bs\n",
    "\n",
    "page = requests.get(website)\n",
    "soup = bs.BeautifulSoup(page.content)\n",
    "print(soup.prettify())"
   ]
  },
  {
   "cell_type": "code",
   "execution_count": null,
   "metadata": {},
   "outputs": [],
   "source": []
  }
 ],
 "metadata": {
  "interpreter": {
   "hash": "e7cb1b9ae4d417fedf7f40a8eec98f7cfbd359e096bd857395a915f4609834ce"
  },
  "kernelspec": {
   "display_name": "Python 3.9.1 ('base')",
   "language": "python",
   "name": "python3"
  },
  "language_info": {
   "codemirror_mode": {
    "name": "ipython",
    "version": 3
   },
   "file_extension": ".py",
   "mimetype": "text/x-python",
   "name": "python",
   "nbconvert_exporter": "python",
   "pygments_lexer": "ipython3",
   "version": "3.9.1"
  },
  "orig_nbformat": 4
 },
 "nbformat": 4,
 "nbformat_minor": 2
}
